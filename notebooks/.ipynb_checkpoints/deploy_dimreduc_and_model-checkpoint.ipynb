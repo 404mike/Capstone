{
 "cells": [
  {
   "cell_type": "code",
   "execution_count": 1,
   "metadata": {
    "collapsed": false
   },
   "outputs": [],
   "source": [
    "import os, codecs\n",
    "import gensim\n",
    "from gensim import corpora\n",
    "from collections import defaultdict\n",
    "import string\n",
    "from string import punctuation\n",
    "from nltk.corpus.reader.plaintext import PlaintextCorpusReader\n",
    "import pandas as pd\n",
    "import numpy as np"
   ]
  },
  {
   "cell_type": "markdown",
   "metadata": {},
   "source": [
    "### THESE SHOULD BE ALL THE RELATIVE PATHS"
   ]
  },
  {
   "cell_type": "code",
   "execution_count": 6,
   "metadata": {
    "collapsed": true
   },
   "outputs": [],
   "source": [
    "source_dir = ''"
   ]
  },
  {
   "cell_type": "code",
   "execution_count": 7,
   "metadata": {
    "collapsed": true
   },
   "outputs": [],
   "source": [
    "outputs_dir = '/home/ubuntu/Capstone/outputs/ec2/'"
   ]
  },
  {
   "cell_type": "code",
   "execution_count": 8,
   "metadata": {
    "collapsed": false
   },
   "outputs": [],
   "source": [
    "class IterFile(object):\n",
    "    '''\n",
    "    class object to do the iterating on individual book txt documents, including file i/o.\n",
    "    '''\n",
    "    \n",
    "    def __init__(self, filepath):\n",
    "        self.filepath = filepath\n",
    "        \n",
    "    def _open_file(self):\n",
    "        self.file = codecs.open(self.filepath, 'r', encoding='utf_8')\n",
    "        \n",
    "    def _close_file(self):\n",
    "        self.file.close()\n",
    "    \n",
    "    def __iter__(self):\n",
    "        '''\n",
    "        overwrite iteration to include file i/o\n",
    "        '''\n",
    "        self._open_file()\n",
    "        \n",
    "        for line in self.file:\n",
    "            yield line\n",
    "        \n",
    "        self._close_file()\n",
    "    "
   ]
  },
  {
   "cell_type": "code",
   "execution_count": 9,
   "metadata": {
    "collapsed": false
   },
   "outputs": [],
   "source": [
    "def transform_txt_file_v1(fname, root=source_dir):\n",
    "    '''\n",
    "    Initial pass at text transformation\n",
    "    Reimplemented later (v2 etc) as a caller of various subfunctions to do all the transformation\n",
    "    '''\n",
    "    fp = root + fname\n",
    "\n",
    "    book_as_lst = []\n",
    "    for line in IterFile(fp):\n",
    "        if line == \"\\n\":\n",
    "            pass\n",
    "        else: \n",
    "            line_lst= [tok.lower().strip(punctuation) for tok in line.strip('\\n').split()]\n",
    "            book_as_lst.extend(line_lst)\n",
    "            \n",
    "    #add in stop word removal and frequency threshhold\n",
    "    return book_as_lst"
   ]
  },
  {
   "cell_type": "code",
   "execution_count": 11,
   "metadata": {
    "collapsed": false,
    "scrolled": true
   },
   "outputs": [
    {
     "data": {
      "text/plain": [
       "['10-clean.txt',\n",
       " '100-clean.txt',\n",
       " '105-clean.txt',\n",
       " '108-clean.txt',\n",
       " '1080-clean.txt',\n",
       " '11-clean.txt',\n",
       " '1112-clean.txt',\n",
       " '1184-clean.txt',\n",
       " '12-clean.txt',\n",
       " '120-clean.txt',\n",
       " '1232-clean.txt',\n",
       " '1260-clean.txt',\n",
       " '1322-clean.txt',\n",
       " '1342-clean.txt',\n",
       " '135-clean.txt',\n",
       " '1399-clean.txt',\n",
       " '140-clean.txt',\n",
       " '1400-clean.txt',\n",
       " '1404-clean.txt',\n",
       " '14264-clean.txt',\n",
       " '147-clean.txt',\n",
       " '1497-clean.txt',\n",
       " '15399-clean.txt',\n",
       " '158-clean.txt',\n",
       " '16-clean.txt',\n",
       " '160-clean.txt',\n",
       " '161-clean.txt',\n",
       " '16382-clean.txt',\n",
       " '1661-clean.txt',\n",
       " '1727-clean.txt',\n",
       " '174-clean.txt',\n",
       " '1952-yellow_wallpaper-clean.txt',\n",
       " '19942-clean.txt',\n",
       " '20-clean.txt',\n",
       " '20203-clean.txt',\n",
       " '203-clean.txt',\n",
       " '205-clean.txt',\n",
       " '21279-clean.txt',\n",
       " '2148-clean.txt',\n",
       " '2174-clean.txt',\n",
       " '219-clean.txt',\n",
       " '224-clean.txt',\n",
       " '23-clean.txt',\n",
       " '236-clean.txt',\n",
       " '2500-clean.txt',\n",
       " '25305-clean.txt',\n",
       " '2591-clean.txt',\n",
       " '2600-clean.txt',\n",
       " '2680-clean.txt',\n",
       " '2701-moby-clean.txt',\n",
       " '28054-clean.txt',\n",
       " '2814-clean.txt',\n",
       " '2852-clean.txt',\n",
       " '28520-clean.txt',\n",
       " '30360-clean.txt',\n",
       " '30601-clean.txt',\n",
       " '3207-clean.txt',\n",
       " '33-clean.txt',\n",
       " '33283-clean.txt',\n",
       " '345-clean.txt',\n",
       " '34901-clean.txt',\n",
       " '35-clean.txt',\n",
       " '36-clean.txt',\n",
       " '3600-clean.txt',\n",
       " '38427-clean.txt',\n",
       " '408-clean.txt',\n",
       " '41-clean.txt',\n",
       " '42-clean.txt',\n",
       " '4300-clean.txt',\n",
       " '4363-clean.txt',\n",
       " '45-clean.txt',\n",
       " '4517-clean.txt',\n",
       " '46-clean.txt',\n",
       " '514-clean.txt',\n",
       " '5200-clean.txt',\n",
       " '521-clean.txt',\n",
       " '526-clean.txt',\n",
       " '55-clean.txt',\n",
       " '55387-clean.txt',\n",
       " '55404-clean.txt',\n",
       " '6130-clean.txt',\n",
       " '730-clean.txt',\n",
       " '7370-clean.txt',\n",
       " '74-clean.txt',\n",
       " '76-clean.txt',\n",
       " '768-clean.txt',\n",
       " '829-clean.txt',\n",
       " '84-clean.txt',\n",
       " '844-clean.txt',\n",
       " '851-clean.txt',\n",
       " '863-clean.txt',\n",
       " '8800-clean.txt',\n",
       " '932-clean.txt',\n",
       " '98-clean.txt',\n",
       " '996-clean.txt']"
      ]
     },
     "execution_count": 11,
     "metadata": {},
     "output_type": "execute_result"
    }
   ],
   "source": [
    "temp_corp = PlaintextCorpusReader(source_dir, '.*\\.txt')\n",
    "fileid_lst = temp_corp.fileids()\n",
    "fileid_lst"
   ]
  },
  {
   "cell_type": "markdown",
   "metadata": {},
   "source": [
    "## EDA and Saving helper funtions\n",
    "\n",
    "To automate EDA steps"
   ]
  },
  {
   "cell_type": "code",
   "execution_count": 43,
   "metadata": {
    "collapsed": false,
    "scrolled": true
   },
   "outputs": [],
   "source": [
    "def eda(transform_txt_file, fileid_lst=fileid_lst):\n",
    "    '''\n",
    "    Do transformations with updated transformation function and return all the eda items\n",
    "    '''\n",
    "    \n",
    "    all_transf_books_lst = [transform_txt_file(f) for f in fileid_lst]\n",
    "    \n",
    "    book_lengths = [(tup[0], len(tup[1])) for tup in zip(fileid_lst, all_transf_books_lst)]\n",
    "    avg_num_tokens = int(np.mean([len(book) for book in all_transf_books_lst]))\n",
    "    \n",
    "    dictionary = corpora.Dictionary(all_transf_books_lst)\n",
    "    dictionary_length = len(dictionary)\n",
    "    \n",
    "    corpus = [dictionary.doc2bow(book) for book in all_transf_books_lst]\n",
    "    \n",
    "    unique_toks_num_lst = [len(book) for book in corpus]\n",
    "    unique_toks_per_fileid = zip(fileid_lst, unique_toks_num_lst)\n",
    "    avg_unique_toks = int(np.mean(unique_toks_num_lst))\n",
    "    \n",
    "    \n",
    "    return book_lengths, avg_num_tokens, dictionary, dictionary_length, unique_toks_per_fileid, avg_unique_toks, corpus\n",
    "\n",
    "\n",
    "def save_stuff(distinguishing_str, dictionary, corpus, outputs_dir=outputs_dir):\n",
    "    '''\n",
    "    Save the outputs of the most recent eda step\n",
    "    '''\n",
    "    dictionary.save(outputs_dir + distinguishing_str + '.dict')\n",
    "    corpora.MmCorpus.serialize(outputs_dir + distinguishing_str + '_corpus.mm', corpus)\n",
    "    "
   ]
  },
  {
   "cell_type": "markdown",
   "metadata": {},
   "source": [
    "### EDA items\n",
    "* List of book lengths (total num of tokens for each book)\n",
    "* Average number of tokens per book\n",
    "* Number of words in corpus (dictionary length)\n",
    "    * Dictionary (not viewed)\n",
    "* Unique tokens per book\n",
    "* Average number of unique tokens per book\n",
    "    * Corpus (not viewe)\n",
    "    \n",
    "Save everything after eda step\n"
   ]
  },
  {
   "cell_type": "markdown",
   "metadata": {},
   "source": [
    "### To summarize the 'simple tokenization' EDA step (#1):"
   ]
  },
  {
   "cell_type": "code",
   "execution_count": 33,
   "metadata": {
    "collapsed": false
   },
   "outputs": [],
   "source": [
    "output_v1 = eda(transform_txt_file_v1)"
   ]
  },
  {
   "cell_type": "code",
   "execution_count": 34,
   "metadata": {
    "collapsed": true
   },
   "outputs": [],
   "source": [
    "book_lengths1, avg_num_tokens1, dictionary1, dictionary_length1, unique_toks_per_fileid1, \\\n",
    "    avg_unique_toks1, corpus1 = output_v1 "
   ]
  },
  {
   "cell_type": "code",
   "execution_count": 35,
   "metadata": {
    "collapsed": false
   },
   "outputs": [
    {
     "name": "stdout",
     "output_type": "stream",
     "text": [
      "Average number of tokens in a book:  132124\n",
      "   \n",
      "Average unique tokens in a book:  9004\n",
      "   \n",
      "Total number of words (dictionary length):  195104\n"
     ]
    }
   ],
   "source": [
    "print \"Average number of tokens in a book: \", avg_num_tokens1\n",
    "print \"   \"\n",
    "print \"Average unique tokens in a book: \", avg_unique_toks1\n",
    "print \"   \"\n",
    "print \"Total number of words (dictionary length): \", dictionary_length1"
   ]
  },
  {
   "cell_type": "code",
   "execution_count": 36,
   "metadata": {
    "collapsed": true
   },
   "outputs": [],
   "source": [
    "##for pres, note the sparcity problem - 9000 vs. 195k == 186k empty"
   ]
  },
  {
   "cell_type": "code",
   "execution_count": 44,
   "metadata": {
    "collapsed": false
   },
   "outputs": [],
   "source": [
    "save_stuff('simple_tok', dictionary1, corpus1)"
   ]
  },
  {
   "cell_type": "markdown",
   "metadata": {},
   "source": [
    "## EDA Step 2: + stop word removal"
   ]
  },
  {
   "cell_type": "code",
   "execution_count": 45,
   "metadata": {
    "collapsed": false
   },
   "outputs": [
    {
     "name": "stdout",
     "output_type": "stream",
     "text": [
      "[nltk_data] Downloading package stopwords to /home/ubuntu/nltk_data...\n",
      "[nltk_data]   Unzipping corpora/stopwords.zip.\n",
      "set([u'all', u'just', u'being', u'over', u'both', u'through', u'yourselves', u'its', u'before', u'o', u'hadn', u'herself', u'll', u'had', u'should', u'to', u'only', u'won', u'under', u'ours', u'has', u'do', u'them', u'his', u'very', u'they', u'not', u'during', u'now', u'him', u'nor', u'd', u'did', u'didn', u'this', u'she', u'each', u'further', u'where', u'few', u'because', u'doing', u'some', u'hasn', u'are', u'our', u'ourselves', u'out', u'what', u'for', u'while', u're', u'does', u'above', u'between', u'mustn', u't', u'be', u'we', u'who', u'were', u'here', u'shouldn', u'hers', u'by', u'on', u'about', u'couldn', u'of', u'against', u's', u'isn', u'or', u'own', u'into', u'yourself', u'down', u'mightn', u'wasn', u'your', u'from', u'her', u'their', u'aren', u'there', u'been', u'whom', u'too', u'wouldn', u'themselves', u'weren', u'was', u'until', u'more', u'himself', u'that', u'but', u'don', u'with', u'than', u'those', u'he', u'me', u'myself', u'ma', u'these', u'up', u'will', u'below', u'ain', u'can', u'theirs', u'my', u'and', u've', u'then', u'is', u'am', u'it', u'doesn', u'an', u'as', u'itself', u'at', u'have', u'in', u'any', u'if', u'again', u'no', u'when', u'same', u'how', u'other', u'which', u'you', u'shan', u'needn', u'haven', u'after', u'most', u'such', u'why', u'a', u'off', u'i', u'm', u'yours', u'so', u'y', u'the', u'having', u'once'])\n"
     ]
    }
   ],
   "source": [
    "import nltk\n",
    "from nltk.corpus import stopwords\n",
    "nltk.download('stopwords')\n",
    "stop = set(stopwords.words('english'))\n",
    "print stop"
   ]
  },
  {
   "cell_type": "code",
   "execution_count": 59,
   "metadata": {
    "collapsed": false
   },
   "outputs": [],
   "source": [
    "def transform_txt_file_v2(fname, root=source_dir, stop_words=stop):\n",
    "    '''\n",
    "    Top-level function to call all of the subfunctions for text transformation\n",
    "    Assumes you want to remove empty lines and tokenize (because you do)\n",
    "    '''\n",
    "    fp = root + fname\n",
    "    book_as_lst = []\n",
    "    for line in IterFile(fp):\n",
    "        \n",
    "        if empty_line_check(line) == False:\n",
    "            line = basic_tokenize(line)\n",
    "            \n",
    "            if stop_words !=None:\n",
    "                line = remove_stop_words(line, stop_words)\n",
    "        \n",
    "        book_as_lst.extend(line)\n",
    "        \n",
    "    return book_as_lst\n",
    "\n",
    "def empty_line_check(line) :\n",
    "    '''\n",
    "    checks for empty line\n",
    "    '''\n",
    "    if line == \"\\n\":\n",
    "        empty = True\n",
    "    else:\n",
    "        empty = False\n",
    "    return empty\n",
    "    \n",
    "def basic_tokenize(line):\n",
    "    '''\n",
    "    convert to list\n",
    "    strip punctuation, lowercase\n",
    "    '''\n",
    "    return [tok.lower().strip(punctuation) for tok in line.strip('\\n').split()]    \n",
    "            \n",
    "def remove_stop_words(line, stop_words):\n",
    "    return [tok for tok in line if tok not in stop_words] "
   ]
  },
  {
   "cell_type": "code",
   "execution_count": 47,
   "metadata": {
    "collapsed": true
   },
   "outputs": [],
   "source": [
    "output_v2 = eda(transform_txt_file_v2)"
   ]
  },
  {
   "cell_type": "code",
   "execution_count": 48,
   "metadata": {
    "collapsed": false
   },
   "outputs": [],
   "source": [
    "book_lengths2, avg_num_tokens2, dictionary2, dictionary_length2, \\\n",
    "    unique_toks_per_fileid2, avg_unique_toks2, corpus2 = output_v2"
   ]
  },
  {
   "cell_type": "code",
   "execution_count": 49,
   "metadata": {
    "collapsed": false
   },
   "outputs": [
    {
     "name": "stdout",
     "output_type": "stream",
     "text": [
      "Average number of tokens in a book:  66904\n",
      "   \n",
      "Average unique tokens in a book:  8882\n",
      "   \n",
      "Total number of words (dictionary length):  194961\n"
     ]
    }
   ],
   "source": [
    "print \"Average number of tokens in a book: \", avg_num_tokens2\n",
    "print \"   \"\n",
    "print \"Average unique tokens in a book: \", avg_unique_toks2\n",
    "print \"   \"\n",
    "print \"Total number of words (dictionary length): \", dictionary_length2"
   ]
  },
  {
   "cell_type": "code",
   "execution_count": 50,
   "metadata": {
    "collapsed": true
   },
   "outputs": [],
   "source": [
    "#make graph of reduction"
   ]
  },
  {
   "cell_type": "code",
   "execution_count": 53,
   "metadata": {
    "collapsed": false
   },
   "outputs": [],
   "source": [
    "save_stuff('no_stopwords', dictionary2, corpus2)"
   ]
  },
  {
   "cell_type": "markdown",
   "metadata": {},
   "source": [
    "## EDA Step 4: + frequency filters"
   ]
  },
  {
   "cell_type": "code",
   "execution_count": 98,
   "metadata": {
    "collapsed": false,
    "scrolled": true
   },
   "outputs": [],
   "source": [
    "def eda_w_filter(transform_txt_file, fileid_lst=fileid_lst):\n",
    "    '''\n",
    "    Do transformations with updated transformation function and return all the eda items\n",
    "    '''\n",
    "    \n",
    "    all_transf_books_lst = [transform_txt_file(f) for f in fileid_lst]\n",
    "    \n",
    "    book_lengths = [(tup[0], len(tup[1])) for tup in zip(fileid_lst, all_transf_books_lst)]\n",
    "    avg_num_tokens = int(np.mean([len(book) for book in all_transf_books_lst]))\n",
    "    \n",
    "    dictionary = corpora.Dictionary(all_transf_books_lst)\n",
    "    dictionary.filter_extremes(no_below=1)\n",
    "    dictionary_length = len(dictionary)\n",
    "    \n",
    "    corpus = [dictionary.doc2bow(book) for book in all_transf_books_lst]\n",
    "    \n",
    "    unique_toks_num_lst = [len(book) for book in corpus]\n",
    "    unique_toks_per_fileid = zip(fileid_lst, unique_toks_num_lst)\n",
    "    avg_unique_toks = int(np.mean(unique_toks_num_lst))\n",
    "    \n",
    "    \n",
    "    return book_lengths, avg_num_tokens, dictionary, dictionary_length, unique_toks_per_fileid, avg_unique_toks, corpus\n",
    "\n",
    "\n",
    "def save_stuff(distinguishing_str, dictionary, corpus, model, outputs_dir=outputs_dir):\n",
    "    '''\n",
    "    Save the outputs of the most recent eda step\n",
    "    '''\n",
    "    if dictionary != None:\n",
    "        dictionary.save(outputs_dir + distinguishing_str + '.dict')\n",
    "        \n",
    "    if corpus != None:\n",
    "        corpora.MmCorpus.serialize(outputs_dir + distinguishing_str + '_corpus.mm', corpus)\n",
    "    \n",
    "    if model != None:\n",
    "        pass"
   ]
  },
  {
   "cell_type": "code",
   "execution_count": 90,
   "metadata": {
    "collapsed": false
   },
   "outputs": [],
   "source": [
    "outputs4 = eda_w_filter(transform_txt_file_v2)"
   ]
  },
  {
   "cell_type": "code",
   "execution_count": 91,
   "metadata": {
    "collapsed": false
   },
   "outputs": [],
   "source": [
    "book_lengths4, avg_num_tokens4, dictionary4, dictionary_length4, \\\n",
    "    unique_toks_per_fileid4, avg_unique_toks4, corpus4 = outputs4"
   ]
  },
  {
   "cell_type": "code",
   "execution_count": 93,
   "metadata": {
    "collapsed": false
   },
   "outputs": [
    {
     "name": "stdout",
     "output_type": "stream",
     "text": [
      "Average number of tokens in a book:  66904 66904\n",
      "   \n",
      "Average unique tokens in a book:  5461 8882\n",
      "   \n",
      "Total number of words (dictionary length):  100000 194961\n"
     ]
    }
   ],
   "source": [
    "print \"Average number of tokens in a book: \", avg_num_tokens4, avg_num_tokens2\n",
    "print \"   \"\n",
    "print \"Average unique tokens in a book: \", avg_unique_toks4, avg_unique_toks2\n",
    "print \"   \"\n",
    "print \"Total number of words (dictionary length): \", dictionary_length4, dictionary_length2"
   ]
  },
  {
   "cell_type": "code",
   "execution_count": 99,
   "metadata": {
    "collapsed": false
   },
   "outputs": [],
   "source": [
    "save_stuff('frequency_filtered', dictionary4, corpus4, model=None)"
   ]
  },
  {
   "cell_type": "markdown",
   "metadata": {},
   "source": [
    "## Dimensionality Reduction Summary:"
   ]
  },
  {
   "cell_type": "code",
   "execution_count": null,
   "metadata": {
    "collapsed": true
   },
   "outputs": [],
   "source": [
    "book_lengths4, avg_num_tokens4, dictionary4, dictionary_length4, \\\n",
    "    unique_toks_per_fileid4, avg_unique_toks4, corpus4 = outputs4"
   ]
  },
  {
   "cell_type": "code",
   "execution_count": 213,
   "metadata": {
    "collapsed": false
   },
   "outputs": [
    {
     "name": "stdout",
     "output_type": "stream",
     "text": [
      "Average unique words per book: \n",
      "    Initial (tokenized):  132124\n",
      "    Stop words removed:  66904\n",
      "    Frequency filtered:  66904\n",
      "   \n",
      "Average unique words per book: \n",
      "    Initial (tokenized):  9004\n",
      "    Stop words removed:  8882\n",
      "    Frequency filtered:  5461\n",
      "   \n",
      "Vocabulary length: \n",
      "    Initial (tokenized):  195104\n",
      "    Stop words removed:  194961\n",
      "    Frequency filtered:  100000\n"
     ]
    }
   ],
   "source": [
    "print \"Average unique words per book: \"\n",
    "print \"   \", \"Initial (tokenized): \", avg_num_tokens1\n",
    "print \"   \", \"Stop words removed: \", avg_num_tokens2\n",
    "print \"   \", \"Frequency filtered: \", avg_num_tokens4\n",
    "print \"   \"\n",
    "print \"Average unique words per book: \"\n",
    "print \"   \", \"Initial (tokenized): \", avg_unique_toks1\n",
    "print \"   \", \"Stop words removed: \", avg_unique_toks2\n",
    "print \"   \", \"Frequency filtered: \", avg_unique_toks4\n",
    "print \"   \"\n",
    "print \"Vocabulary length: \"\n",
    "print \"   \", \"Initial (tokenized): \", dictionary_length1\n",
    "print \"   \", \"Stop words removed: \", dictionary_length2\n",
    "print \"   \", \"Frequency filtered: \", dictionary_length4\n"
   ]
  },
  {
   "cell_type": "code",
   "execution_count": 217,
   "metadata": {
    "collapsed": false
   },
   "outputs": [
    {
     "data": {
      "text/plain": [
       "([132124, 66904, 66904], [9004, 8882, 5461], [195104, 194961, 100000])"
      ]
     },
     "execution_count": 217,
     "metadata": {},
     "output_type": "execute_result"
    }
   ],
   "source": [
    "avg_num_tokens_lst = [avg_num_tokens1, avg_num_tokens2, avg_num_tokens4]\n",
    "avg_unique_toks_lst =  [avg_unique_toks1, avg_unique_toks2, avg_unique_toks4]\n",
    "vocab_size_lst =[dictionary_length1, dictionary_length2, dictionary_length4]\n",
    "avg_num_tokens_lst, avg_unique_toks_lst, vocab_size_lst"
   ]
  },
  {
   "cell_type": "code",
   "execution_count": 218,
   "metadata": {
    "collapsed": false
   },
   "outputs": [
    {
     "data": {
      "text/plain": [
       "([9004, 132124, 195104], [8882, 66904, 194961], [5461, 66904, 100000])"
      ]
     },
     "execution_count": 218,
     "metadata": {},
     "output_type": "execute_result"
    }
   ],
   "source": [
    "tokenized_lst = [avg_unique_toks1, avg_num_tokens1, dictionary_length1]\n",
    "stop_words_removed_lst =  [avg_unique_toks2, avg_num_tokens2, dictionary_length2]\n",
    "frequency_filtered_lst =[avg_unique_toks4, avg_num_tokens4, dictionary_length4]\n",
    "tokenized_lst, stop_words_removed_lst, frequency_filtered_lst"
   ]
  },
  {
   "cell_type": "code",
   "execution_count": 214,
   "metadata": {
    "collapsed": true
   },
   "outputs": [],
   "source": [
    "import matplotlib.pyplot as plt\n",
    "#%matplotinline"
   ]
  },
  {
   "cell_type": "code",
   "execution_count": 228,
   "metadata": {
    "collapsed": false
   },
   "outputs": [
    {
     "data": {
      "image/png": "[encoded data removed]",
      "text/plain": [
       "<matplotlib.figure.Figure at 0x7fa3a1381710>"
      ]
     },
     "metadata": {},
     "output_type": "display_data"
    }
   ],
   "source": [
    "n_groups = 3\n",
    "pos = list(range(n_groups))\n",
    "\n",
    "dim_red_1 = tokenized_lst\n",
    "\n",
    "dim_red_2 = stop_words_removed_lst\n",
    "\n",
    "dim_red_3 = frequency_filtered_lst\n",
    "\n",
    "\n",
    "fig, ax = plt.subplots()\n",
    "\n",
    "pos = list(range(n_groups))\n",
    "bar_width = 0.25\n",
    "\n",
    "opacity = 0.4\n",
    "error_config = {'ecolor': '0.3'}\n",
    "\n",
    "rects1 = plt.bar(pos, \n",
    "                 dim_red_1, bar_width,\n",
    "                 alpha=opacity,\n",
    "                 #color='b',\n",
    "                 label='Initial')\n",
    "\n",
    "rects2 = plt.bar([p + bar_width for p in pos], \n",
    "                 dim_red_2, bar_width,\n",
    "                 alpha=opacity,\n",
    "                 #color='b',\n",
    "                 label='Stop Word Removal')\n",
    "\n",
    "rects3 = plt.bar([p + bar_width*2 for p in pos], \n",
    "                 dim_red_3, bar_width,\n",
    "                 alpha=opacity,\n",
    "                 #color='b',\n",
    "                 label= 'Frequency Filtering')\n",
    "\n",
    "#plt.xlabel('Group')\n",
    "plt.ylabel('Number of Words')\n",
    "plt.title('Counts Over Dimensionality Reduction')\n",
    "plt.xticks(index + bar_width / 2, ('Avg unique per book', \\\n",
    "                        'Avg total per book', 'Total vocab size'))\n",
    "plt.legend()\n",
    "\n",
    "plt.tight_layout()\n",
    "plt.show()"
   ]
  },
  {
   "cell_type": "code",
   "execution_count": null,
   "metadata": {
    "collapsed": true
   },
   "outputs": [],
   "source": []
  },
  {
   "cell_type": "markdown",
   "metadata": {},
   "source": [
    "## LDA Model"
   ]
  },
  {
   "cell_type": "code",
   "execution_count": 1,
   "metadata": {
    "collapsed": false
   },
   "outputs": [
    {
     "name": "stdout",
     "output_type": "stream",
     "text": [
      "CPU times: user 0 ns, sys: 0 ns, total: 0 ns\n",
      "Wall time: 27.2 µs\n"
     ]
    }
   ],
   "source": [
    "from gensim.models import ldamodel\n",
    "from gensim.models import LdaMulticore"
   ]
  },
  {
   "cell_type": "code",
   "execution_count": 109,
   "metadata": {
    "collapsed": false
   },
   "outputs": [],
   "source": [
    "lda = ldamodel.LdaModel(corpus=corpus4,alpha='auto', id2word=dictionary2, \\\n",
    "                        num_topics=100, update_every=0, passes=20)\n",
    "%time"
   ]
  },
  {
   "cell_type": "code",
   "execution_count": 110,
   "metadata": {
    "collapsed": false
   },
   "outputs": [],
   "source": [
    "name = 'lda.model'\n",
    "lda.save(outputs_dir + name)\n"
   ]
  },
  {
   "cell_type": "code",
   "execution_count": 111,
   "metadata": {
    "collapsed": false
   },
   "outputs": [
    {
     "name": "stdout",
     "output_type": "stream",
     "text": [
      "LdaModel(num_terms=194961, num_topics=10, decay=0.5, chunksize=2000)\n"
     ]
    }
   ],
   "source": [
    "print lda"
   ]
  },
  {
   "cell_type": "code",
   "execution_count": 3,
   "metadata": {
    "collapsed": false
   },
   "outputs": [
    {
     "ename": "NameError",
     "evalue": "name 'corpus4' is not defined",
     "output_type": "error",
     "traceback": [
      "\u001b[0;31m\u001b[0m",
      "\u001b[0;31mNameError\u001b[0mTraceback (most recent call last)",
      "\u001b[0;32m<ipython-input-3-ae3876220e0c>\u001b[0m in \u001b[0;36m<module>\u001b[0;34m()\u001b[0m\n\u001b[0;32m----> 1\u001b[0;31m \u001b[0mlda_multi\u001b[0m \u001b[0;34m=\u001b[0m \u001b[0mLdaMulticore\u001b[0m\u001b[0;34m(\u001b[0m\u001b[0mcorpus\u001b[0m\u001b[0;34m=\u001b[0m\u001b[0mcorpus4\u001b[0m\u001b[0;34m,\u001b[0m\u001b[0malpha\u001b[0m\u001b[0;34m=\u001b[0m\u001b[0;34m'auto'\u001b[0m\u001b[0;34m,\u001b[0m \u001b[0mid2word\u001b[0m\u001b[0;34m=\u001b[0m\u001b[0mdictionary4\u001b[0m\u001b[0;34m,\u001b[0m                         \u001b[0mnum_topics\u001b[0m\u001b[0;34m=\u001b[0m\u001b[0;36m100\u001b[0m\u001b[0;34m,\u001b[0m \u001b[0mupdate_every\u001b[0m\u001b[0;34m=\u001b[0m\u001b[0;36m0\u001b[0m\u001b[0;34m,\u001b[0m \u001b[0mpasses\u001b[0m\u001b[0;34m=\u001b[0m\u001b[0;36m20\u001b[0m\u001b[0;34m,\u001b[0m \u001b[0mworkers\u001b[0m\u001b[0;34m=\u001b[0m\u001b[0;36m4\u001b[0m\u001b[0;34m)\u001b[0m\u001b[0;34m\u001b[0m\u001b[0m\n\u001b[0m\u001b[1;32m      2\u001b[0m \u001b[0mget_ipython\u001b[0m\u001b[0;34m(\u001b[0m\u001b[0;34m)\u001b[0m\u001b[0;34m.\u001b[0m\u001b[0mmagic\u001b[0m\u001b[0;34m(\u001b[0m\u001b[0;34mu'time'\u001b[0m\u001b[0;34m)\u001b[0m\u001b[0;34m\u001b[0m\u001b[0m\n",
      "\u001b[0;31mNameError\u001b[0m: name 'corpus4' is not defined"
     ]
    }
   ],
   "source": [
    "lda_multi = LdaMulticore(corpus=corpus4,alpha='auto', id2word=dictionary4, \\\n",
    "                        num_topics=100, update_every=0, passes=20, workers=4)\n",
    "%time"
   ]
  },
  {
   "cell_type": "code",
   "execution_count": 110,
   "metadata": {
    "collapsed": false
   },
   "outputs": [],
   "source": [
    "name = 'lda_multi.model'\n",
    "lda_multi.save(outputs_dir + name)\n"
   ]
  },
  {
   "cell_type": "code",
   "execution_count": 111,
   "metadata": {
    "collapsed": false
   },
   "outputs": [
    {
     "name": "stdout",
     "output_type": "stream",
     "text": [
      "LdaModel(num_terms=194961, num_topics=10, decay=0.5, chunksize=2000)\n"
     ]
    }
   ],
   "source": [
    "print lda_multi"
   ]
  },
  {
   "cell_type": "markdown",
   "metadata": {},
   "source": [
    "See the topics and their most significant terms"
   ]
  },
  {
   "cell_type": "code",
   "execution_count": 189,
   "metadata": {
    "collapsed": false,
    "scrolled": true
   },
   "outputs": [
    {
     "data": {
      "text/plain": [
       "[(0,\n",
       "  u'0.027*\"\\n\" + 0.007*\"one\" + 0.007*\"would\" + 0.005*\"may\" + 0.004*\"man\" + 0.004*\"small\" + 0.004*\"said\" + 0.004*\"upon\" + 0.004*\"letter\" + 0.003*\"us\"'),\n",
       " (1,\n",
       "  u'0.036*\"\\n\" + 0.010*\"said\" + 0.007*\"would\" + 0.007*\"one\" + 0.006*\"could\" + 0.005*\"mr\" + 0.004*\"know\" + 0.004*\"time\" + 0.004*\"little\" + 0.004*\"see\"'),\n",
       " (2,\n",
       "  u'0.038*\"\\n\" + 0.007*\"one\" + 0.006*\"said\" + 0.004*\"would\" + 0.004*\"man\" + 0.003*\"us\" + 0.003*\"time\" + 0.003*\"like\" + 0.003*\"could\" + 0.003*\"much\"'),\n",
       " (3,\n",
       "  u'0.036*\"\\n\" + 0.008*\"man\" + 0.007*\"god\" + 0.007*\"men\" + 0.007*\"ich\" + 0.006*\"power\" + 0.006*\"one\" + 0.005*\"law\" + 0.004*\"also\" + 0.004*\"therefore\"'),\n",
       " (4,\n",
       "  u'0.055*\"\\n\" + 0.022*\"shall\" + 0.020*\"unto\" + 0.017*\"lord\" + 0.013*\"thou\" + 0.011*\"thy\" + 0.010*\"god\" + 0.009*\"thee\" + 0.009*\"ye\" + 0.009*\"said\"'),\n",
       " (5,\n",
       "  u'0.056*\"\\n\" + 0.008*\"said\" + 0.007*\"one\" + 0.005*\"man\" + 0.004*\"would\" + 0.003*\"upon\" + 0.003*\"like\" + 0.003*\"two\" + 0.003*\"could\" + 0.003*\"little\"'),\n",
       " (6,\n",
       "  u'0.038*\"\\n\" + 0.019*\"said\" + 0.008*\"one\" + 0.006*\"would\" + 0.006*\"went\" + 0.006*\"got\" + 0.005*\"could\" + 0.005*\"little\" + 0.005*\"see\" + 0.005*\"go\"'),\n",
       " (7,\n",
       "  u'0.017*\"\\n\" + 0.009*\"would\" + 0.009*\"one\" + 0.007*\"could\" + 0.006*\"upon\" + 0.005*\"time\" + 0.005*\"man\" + 0.004*\"came\" + 0.004*\"made\" + 0.004*\"men\"'),\n",
       " (8,\n",
       "  u'0.011*\"things\" + 0.011*\"thou\" + 0.008*\"earth\" + 0.007*\"\\n\" + 0.005*\"doth\" + 0.005*\"either\" + 0.005*\"nature\" + 0.005*\"unto\" + 0.004*\"thyself\" + 0.004*\"globe\"'),\n",
       " (9,\n",
       "  u'0.019*\"\\n\" + 0.011*\"thou\" + 0.008*\"thy\" + 0.006*\"thee\" + 0.006*\"shall\" + 0.004*\"good\" + 0.004*\"king\" + 0.004*\"lord\" + 0.004*\"one\" + 0.004*\"come\"')]"
      ]
     },
     "execution_count": 189,
     "metadata": {},
     "output_type": "execute_result"
    }
   ],
   "source": [
    "lda.show_topics()\n",
    "#also lda.show_topics() - what is difference?"
   ]
  },
  {
   "cell_type": "markdown",
   "metadata": {},
   "source": [
    "For a given document (in bow format), see most relevant topics"
   ]
  },
  {
   "cell_type": "code",
   "execution_count": 112,
   "metadata": {
    "collapsed": false
   },
   "outputs": [
    {
     "data": {
      "text/plain": [
       "[(0, 0.83551263725276792),\n",
       " (1, 0.017758247818321121),\n",
       " (4, 0.033966879261823679),\n",
       " (7, 0.11079299655988328)]"
      ]
     },
     "execution_count": 112,
     "metadata": {},
     "output_type": "execute_result"
    }
   ],
   "source": [
    "lda.get_document_topics(dictionary2.doc2bow(transform_txt_file_v2('1080-clean.txt')))"
   ]
  },
  {
   "cell_type": "markdown",
   "metadata": {},
   "source": [
    "For a given term in vocab, see what topics are most likely/relevant"
   ]
  },
  {
   "cell_type": "code",
   "execution_count": 186,
   "metadata": {
    "collapsed": false
   },
   "outputs": [
    {
     "data": {
      "text/plain": [
       "[(0, 0.00081795748432229377),\n",
       " (1, 0.00046665540461913628),\n",
       " (2, 0.00039821109443075416),\n",
       " (3, 0.00089142134354498184),\n",
       " (4, 0.00070689873255245941),\n",
       " (5, 0.00075794148467451953),\n",
       " (6, 0.00025252416712527251),\n",
       " (7, 0.00044098219041034128),\n",
       " (8, 0.00014582208768044617),\n",
       " (9, 0.0016219715531712738)]"
      ]
     },
     "execution_count": 186,
     "metadata": {},
     "output_type": "execute_result"
    }
   ],
   "source": [
    "lda.get_term_topics(100, minimum_probability=0.00001)"
   ]
  },
  {
   "cell_type": "markdown",
   "metadata": {},
   "source": [
    "Inverse of above"
   ]
  },
  {
   "cell_type": "code",
   "execution_count": 114,
   "metadata": {
    "collapsed": false
   },
   "outputs": [
    {
     "data": {
      "text/plain": [
       "[(10364, 0.035504333182389526),\n",
       " (8954, 0.0096323354543700022),\n",
       " (12919, 0.0073228099915345771),\n",
       " (1443, 0.006681396288898224),\n",
       " (3530, 0.0063353405287126258),\n",
       " (39835, 0.0052772699844260773),\n",
       " (16982, 0.0042263928343234903),\n",
       " (1031, 0.0036816693497437052),\n",
       " (9837, 0.00359973572788477),\n",
       " (2690, 0.0035094699408091535)]"
      ]
     },
     "execution_count": 114,
     "metadata": {},
     "output_type": "execute_result"
    }
   ],
   "source": [
    "lda.get_topic_terms(1)"
   ]
  },
  {
   "cell_type": "code",
   "execution_count": 115,
   "metadata": {
    "collapsed": false
   },
   "outputs": [
    {
     "name": "stdout",
     "output_type": "stream",
     "text": [
      "\n",
      "\n",
      "one\n",
      "would\n",
      "may\n",
      "man\n",
      "small\n",
      "said\n",
      "upon\n",
      "letter\n",
      "us\n"
     ]
    }
   ],
   "source": [
    "for tup in lda.get_topic_terms(0):\n",
    "    print dictionary2[tup[0]]"
   ]
  },
  {
   "cell_type": "code",
   "execution_count": null,
   "metadata": {
    "collapsed": false
   },
   "outputs": [],
   "source": [
    "#Document alignment\n",
    "#softmax - zeroing - zero out all not in the top2 alignment\n",
    "    #manually creat label from top word\n",
    "    #need to include logic to use two topics if below certain threshhold\n",
    "#projection - \n",
    "#cos sim"
   ]
  },
  {
   "cell_type": "code",
   "execution_count": null,
   "metadata": {
    "collapsed": true
   },
   "outputs": [],
   "source": []
  },
  {
   "cell_type": "code",
   "execution_count": null,
   "metadata": {
    "collapsed": true
   },
   "outputs": [],
   "source": []
  }
 ],
 "metadata": {
  "anaconda-cloud": {},
  "kernelspec": {
   "display_name": "Python [conda env:python2]",
   "language": "python",
   "name": "conda-env-python2-py"
  },
  "language_info": {
   "codemirror_mode": {
    "name": "ipython",
    "version": 2
   },
   "file_extension": ".py",
   "mimetype": "text/x-python",
   "name": "python",
   "nbconvert_exporter": "python",
   "pygments_lexer": "ipython2",
   "version": "2.7.13"
  }
 },
 "nbformat": 4,
 "nbformat_minor": 1
}
