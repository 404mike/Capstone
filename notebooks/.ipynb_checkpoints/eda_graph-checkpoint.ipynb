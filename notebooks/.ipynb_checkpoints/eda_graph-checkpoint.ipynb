{
 "cells": [
  {
   "cell_type": "code",
   "execution_count": 1,
   "metadata": {
    "collapsed": false
   },
   "outputs": [
    {
     "name": "stderr",
     "output_type": "stream",
     "text": [
      "Using TensorFlow backend.\n"
     ]
    }
   ],
   "source": [
    "import os, codecs\n",
    "import gensim\n",
    "from gensim import corpora\n",
    "from collections import defaultdict\n",
    "import string\n",
    "from string import punctuation\n",
    "from nltk.corpus.reader.plaintext import PlaintextCorpusReader\n",
    "import pandas as pd\n",
    "import numpy as np"
   ]
  },
  {
   "cell_type": "code",
   "execution_count": 17,
   "metadata": {
    "collapsed": true
   },
   "outputs": [],
   "source": [
    "d = {'tokenized': {'avg_unique': 9004, 'total_vocab': 195113, 'avg_words': 132124}, \\\n",
    "     'tok_and_sw': {'avg_unique': 8881, 'total_vocab': 194960, 'avg_words': 64322}, \\\n",
    "     'freq_filtered': {'avg_unique': 5000, 'total_vocab': 100000, 'avg_words': 50000}}"
   ]
  },
  {
   "cell_type": "code",
   "execution_count": 18,
   "metadata": {
    "collapsed": false
   },
   "outputs": [
    {
     "name": "stdout",
     "output_type": "stream",
     "text": [
      "Average word count per book: \n",
      "    Initial (tokenized):  132124\n",
      "    Stop words removed:  64322\n",
      "    Frequency filtered:  50000\n",
      "   \n",
      "Average unique words per book: \n",
      "    Initial (tokenized):  9004\n",
      "    Stop words removed:  8881\n",
      "    Frequency filtered:  5000\n",
      "   \n",
      "Vocabulary length: \n",
      "    Initial (tokenized):  195113\n",
      "    Stop words removed:  194960\n",
      "    Frequency filtered:  100000\n"
     ]
    }
   ],
   "source": [
    "print \"Average word count per book: \"\n",
    "print \"   \", \"Initial (tokenized): \", d['tokenized']['avg_words']\n",
    "print \"   \", \"Stop words removed: \", d['tok_and_sw']['avg_words']\n",
    "print \"   \", \"Frequency filtered: \", d['freq_filtered']['avg_words']\n",
    "print \"   \"\n",
    "print \"Average unique words per book: \"\n",
    "print \"   \", \"Initial (tokenized): \", d['tokenized']['avg_unique']\n",
    "print \"   \", \"Stop words removed: \", d['tok_and_sw']['avg_unique']\n",
    "print \"   \", \"Frequency filtered: \", d['freq_filtered']['avg_unique']\n",
    "print \"   \"\n",
    "print \"Vocabulary length: \"\n",
    "print \"   \", \"Initial (tokenized): \", d['tokenized']['total_vocab']\n",
    "print \"   \", \"Stop words removed: \", d['tok_and_sw']['total_vocab']\n",
    "print \"   \", \"Frequency filtered: \", d['freq_filtered']['total_vocab']"
   ]
  },
  {
   "cell_type": "code",
   "execution_count": 19,
   "metadata": {
    "collapsed": false
   },
   "outputs": [
    {
     "data": {
      "text/plain": [
       "([9004, 132124, 195113], [8881, 64322, 194960], [5000, 50000, 100000])"
      ]
     },
     "execution_count": 19,
     "metadata": {},
     "output_type": "execute_result"
    }
   ],
   "source": [
    "keys_lst = ['avg_unique', 'avg_words', 'total_vocab']\n",
    "tokenized_lst = [d['tokenized'][key] for key in keys_lst]\n",
    "stop_words_removed_lst = [d['tok_and_sw'][key] for key in keys_lst]\n",
    "frequency_filtered_lst = _lst = [d['freq_filtered'][key] for key in keys_lst]\n",
    "tokenized_lst, stop_words_removed_lst, frequency_filtered_lst"
   ]
  },
  {
   "cell_type": "code",
   "execution_count": 20,
   "metadata": {
    "collapsed": false
   },
   "outputs": [
    {
     "data": {
      "image/png": "[encoded data removed]",
      "text/plain": [
       "<matplotlib.figure.Figure at 0x118d34690>"
      ]
     },
     "metadata": {},
     "output_type": "display_data"
    }
   ],
   "source": [
    "import matplotlib.pyplot as plt\n",
    "n_groups = 3\n",
    "pos = list(range(n_groups))\n",
    "\n",
    "dim_red_1 = tokenized_lst\n",
    "\n",
    "dim_red_2 = stop_words_removed_lst\n",
    "\n",
    "dim_red_3 = frequency_filtered_lst\n",
    "\n",
    "\n",
    "fig, ax = plt.subplots()\n",
    "\n",
    "pos = list(range(n_groups))\n",
    "bar_width = 0.25\n",
    "\n",
    "opacity = 0.4\n",
    "error_config = {'ecolor': '0.3'}\n",
    "\n",
    "rects1 = plt.bar(pos, \n",
    "                 dim_red_1, bar_width,\n",
    "                 alpha=opacity,\n",
    "                 #color='b',\n",
    "                 label='Initial')\n",
    "\n",
    "rects2 = plt.bar([p + bar_width for p in pos], \n",
    "                 dim_red_2, bar_width,\n",
    "                 alpha=opacity,\n",
    "                 #color='b',\n",
    "                 label='Stop Word Removal')\n",
    "\n",
    "rects3 = plt.bar([p + bar_width*2 for p in pos], \n",
    "                 dim_red_3, bar_width,\n",
    "                 alpha=opacity,\n",
    "                 #color='b',\n",
    "                 label= 'Frequency Filtering')\n",
    "\n",
    "#plt.xlabel('Group')\n",
    "plt.ylabel('Number of Words')\n",
    "plt.title('Counts Over Dimensionality Reduction')\n",
    "#plt.xticks(index + bar_width / 2, ('Avg unique per book', \\\n",
    "                        #'Avg total per book', 'Total vocab size'))\n",
    "plt.legend()\n",
    "\n",
    "plt.tight_layout()\n",
    "plt.show()"
   ]
  },
  {
   "cell_type": "code",
   "execution_count": null,
   "metadata": {
    "collapsed": true
   },
   "outputs": [],
   "source": []
  }
 ],
 "metadata": {
  "anaconda-cloud": {},
  "kernelspec": {
   "display_name": "Python [conda root]",
   "language": "python",
   "name": "conda-root-py"
  },
  "language_info": {
   "codemirror_mode": {
    "name": "ipython",
    "version": 2
   },
   "file_extension": ".py",
   "mimetype": "text/x-python",
   "name": "python",
   "nbconvert_exporter": "python",
   "pygments_lexer": "ipython2",
   "version": "2.7.12"
  }
 },
 "nbformat": 4,
 "nbformat_minor": 1
}
