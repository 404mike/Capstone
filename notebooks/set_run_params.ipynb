{
 "cells": [
  {
   "cell_type": "markdown",
   "metadata": {},
   "source": [
    "# This notebook is an interface to conveniently create the run paramters file for either script (Dimensional Reduction or Modeling)"
   ]
  },
  {
   "cell_type": "code",
   "execution_count": null,
   "metadata": {},
   "outputs": [],
   "source": [
    "cd ../py_scripts"
   ]
  },
  {
   "cell_type": "code",
   "execution_count": null,
   "metadata": {
    "collapsed": true
   },
   "outputs": [],
   "source": [
    "import json\n",
    "from utils_streamers import DirFileMgr"
   ]
  },
  {
   "cell_type": "markdown",
   "metadata": {},
   "source": [
    "# Dimensional Reduction  "
   ]
  },
  {
   "cell_type": "markdown",
   "metadata": {},
   "source": [
    "## Enter unique ID string HERE"
   ]
  },
  {
   "cell_type": "code",
   "execution_count": null,
   "metadata": {
    "collapsed": true
   },
   "outputs": [],
   "source": [
    "dr_id_str = 'YOUR STRING'"
   ]
  },
  {
   "cell_type": "code",
   "execution_count": null,
   "metadata": {},
   "outputs": [],
   "source": [
    "dr_fps = DirFileMgr(dr_id_str)\n",
    "dr_fps.create_all_dr_fps(new_setup='Y')"
   ]
  },
  {
   "cell_type": "markdown",
   "metadata": {},
   "source": [
    "## Set run parameters for the dimensional reduction stage"
   ]
  },
  {
   "cell_type": "code",
   "execution_count": null,
   "metadata": {
    "collapsed": true
   },
   "outputs": [],
   "source": [
    "#Minimum number of documents that a token must appear in (otherwise it is filtered out)\n",
    "min_freq = 5  #Default 5; set to None to skip frequency filtering\n",
    "\n",
    "#Maximum percentage of the corpus in which a token can appear (otherwise it is filtered out)\n",
    "max_freq = 0.5  #Default 0.5\n",
    "\n",
    "#Number of words to keep in dictionary\n",
    "keep_n = 2000000  #Gensim default = 100000; I changed it here since our docs are so large (books)\n",
    "\n",
    "#Dataset used\n",
    "dataset = dr_fps.source_dir"
   ]
  },
  {
   "cell_type": "code",
   "execution_count": null,
   "metadata": {
    "collapsed": true
   },
   "outputs": [],
   "source": [
    "dr_d = { 'min_freq' : min_freq, 'max_freq' : max_freq, 'keep_n' : keep_n, \\\n",
    "       'dataset' : dataset}"
   ]
  },
  {
   "cell_type": "code",
   "execution_count": null,
   "metadata": {
    "collapsed": true
   },
   "outputs": [],
   "source": [
    "json.dump(dr_d, open(dr_fps.dr_run_params, 'w'))"
   ]
  },
  {
   "cell_type": "markdown",
   "metadata": {},
   "source": [
    "# Modeling"
   ]
  },
  {
   "cell_type": "markdown",
   "metadata": {},
   "source": [
    "## Enter unique ID string HERE"
   ]
  },
  {
   "cell_type": "code",
   "execution_count": null,
   "metadata": {
    "collapsed": true
   },
   "outputs": [],
   "source": [
    "mod_id_str = 'YOUR STRING'"
   ]
  },
  {
   "cell_type": "code",
   "execution_count": null,
   "metadata": {},
   "outputs": [],
   "source": [
    "mod_fps = DirFileMgr(mod_id_str)\n",
    "mod_fps.create_all_modeling_fps(mod_id_str)"
   ]
  },
  {
   "cell_type": "markdown",
   "metadata": {},
   "source": [
    "## Set run parameters for the modeling stage"
   ]
  },
  {
   "cell_type": "code",
   "execution_count": null,
   "metadata": {
    "collapsed": true
   },
   "outputs": [],
   "source": [
    "##ADD CORPUS SIZE\n",
    "\n",
    "#Number of topics for LDA to train on\n",
    "num_topics = 50  #Default 50 for entire corpus\n",
    "\n",
    "#Number of training passes for LDA algorithm\n",
    "passes = 10  #Default 10\n",
    "\n",
    "#Number of cores on the machine running the modeling script\n",
    "cores = 2 #Common values: \n",
    "            #recent macbook=2, \n",
    "            #recent macbook pro= 4 or 2\n",
    "            #recent macbook air=2\n",
    "            #t2.xlarge ec2=4\n",
    "            #Spec too few cores and run is computationally sub-optimized\n",
    "            #Spec too many and run may fail\n",
    "\n",
    "#Number of docs to process at a time\n",
    "chunksize = 2000  #Default 2000\n",
    "\n",
    "#How often to do the maximation step as related to chunk size\n",
    "update_every = 0  #Default 0\n",
    "#See this link for more detail: https://groups.google.com/forum/#!topic/gensim/ojySenxQHi4"
   ]
  },
  {
   "cell_type": "code",
   "execution_count": null,
   "metadata": {
    "collapsed": true
   },
   "outputs": [],
   "source": [
    "mod_d = {'num_topics' : num_topics, 'passes' : passes, 'cores' : cores, \\\n",
    "         'chunksize' : chunksize, 'update_every' : update_every }"
   ]
  },
  {
   "cell_type": "code",
   "execution_count": null,
   "metadata": {
    "collapsed": true
   },
   "outputs": [],
   "source": [
    "json.dump(mod_d, open(mod_fps.mod_run_params, 'w'))"
   ]
  }
 ],
 "metadata": {
  "kernelspec": {
   "display_name": "Python 3",
   "language": "python",
   "name": "python3"
  },
  "language_info": {
   "codemirror_mode": {
    "name": "ipython",
    "version": 3
   },
   "file_extension": ".py",
   "mimetype": "text/x-python",
   "name": "python",
   "nbconvert_exporter": "python",
   "pygments_lexer": "ipython3",
   "version": "3.6.3"
  }
 },
 "nbformat": 4,
 "nbformat_minor": 2
}
