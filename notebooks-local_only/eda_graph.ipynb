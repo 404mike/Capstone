{
 "cells": [
  {
   "cell_type": "code",
   "execution_count": 1,
   "metadata": {
    "collapsed": false
   },
   "outputs": [
    {
     "name": "stderr",
     "output_type": "stream",
     "text": [
      "Using TensorFlow backend.\n"
     ]
    }
   ],
   "source": [
    "import os, codecs\n",
    "import gensim\n",
    "from gensim import corpora\n",
    "from collections import defaultdict\n",
    "import string\n",
    "from string import punctuation\n",
    "from nltk.corpus.reader.plaintext import PlaintextCorpusReader\n",
    "import pandas as pd\n",
    "import numpy as np"
   ]
  },
  {
   "cell_type": "code",
   "execution_count": null,
   "metadata": {
    "collapsed": true
   },
   "outputs": [],
   "source": [
    "json.load()"
   ]
  },
  {
   "cell_type": "code",
   "execution_count": 26,
   "metadata": {
    "collapsed": false
   },
   "outputs": [],
   "source": [
    "d = {\"tokenized\": {\"avg_unique\": 4567, \"total_vocab\": 479010, \"avg_words\": 49641}, \"tok_and_sw\": {\"avg_unique\": 4453, \"total_vocab\": 478857, \"avg_words\": 21127}, \"freq_filtered\": {\"avg_unique\": 2828, \"total_vocab\": 100000, \"avg_words\": 6829}}"
   ]
  },
  {
   "cell_type": "code",
   "execution_count": 27,
   "metadata": {
    "collapsed": false
   },
   "outputs": [
    {
     "name": "stdout",
     "output_type": "stream",
     "text": [
      "Average word count per book: \n",
      "    Initial (tokenized):  49641\n",
      "    Stop words removed:  21127\n",
      "    Frequency filtered:  6829\n",
      "   \n",
      "Average unique words per book: \n",
      "    Initial (tokenized):  4567\n",
      "    Stop words removed:  4453\n",
      "    Frequency filtered:  2828\n",
      "   \n",
      "Vocabulary length: \n",
      "    Initial (tokenized):  479010\n",
      "    Stop words removed:  478857\n",
      "    Frequency filtered:  100000\n"
     ]
    }
   ],
   "source": [
    "print \"Average word count per book: \"\n",
    "print \"   \", \"Initial (tokenized): \", d['tokenized']['avg_words']\n",
    "print \"   \", \"Stop words removed: \", d['tok_and_sw']['avg_words']\n",
    "print \"   \", \"Frequency filtered: \", d['freq_filtered']['avg_words']\n",
    "print \"   \"\n",
    "print \"Average unique words per book: \"\n",
    "print \"   \", \"Initial (tokenized): \", d['tokenized']['avg_unique']\n",
    "print \"   \", \"Stop words removed: \", d['tok_and_sw']['avg_unique']\n",
    "print \"   \", \"Frequency filtered: \", d['freq_filtered']['avg_unique']\n",
    "print \"   \"\n",
    "print \"Vocabulary length: \"\n",
    "print \"   \", \"Initial (tokenized): \", d['tokenized']['total_vocab']\n",
    "print \"   \", \"Stop words removed: \", d['tok_and_sw']['total_vocab']\n",
    "print \"   \", \"Frequency filtered: \", d['freq_filtered']['total_vocab']"
   ]
  },
  {
   "cell_type": "code",
   "execution_count": 37,
   "metadata": {
    "collapsed": false
   },
   "outputs": [
    {
     "data": {
      "text/plain": [
       "([4567, 49641, 479010], [4453, 21127, 478857], [2828, 6829, 100000])"
      ]
     },
     "execution_count": 37,
     "metadata": {},
     "output_type": "execute_result"
    }
   ],
   "source": [
    "sec_keys_lst = ['avg_unique', 'avg_words', 'total_vocab']\n",
    "tokenized_lst = [d['tokenized'][key] for key in sec_keys_lst]\n",
    "stop_words_removed_lst = [d['tok_and_sw'][key] for key in sec_keys_lst]\n",
    "frequency_filtered_lst = _lst = [d['freq_filtered'][key] for key in sec_keys_lst]\n",
    "tokenized_lst, stop_words_removed_lst, frequency_filtered_lst"
   ]
  },
  {
   "cell_type": "code",
   "execution_count": 35,
   "metadata": {
    "collapsed": false
   },
   "outputs": [
    {
     "data": {
      "text/plain": [
       "['avg_unique', 'total_vocab', 'avg_words']"
      ]
     },
     "execution_count": 35,
     "metadata": {},
     "output_type": "execute_result"
    }
   ],
   "source": [
    "sec_keys_lst"
   ]
  },
  {
   "cell_type": "code",
   "execution_count": null,
   "metadata": {
    "collapsed": true
   },
   "outputs": [],
   "source": []
  },
  {
   "cell_type": "code",
   "execution_count": null,
   "metadata": {
    "collapsed": true
   },
   "outputs": [],
   "source": []
  },
  {
   "cell_type": "code",
   "execution_count": 33,
   "metadata": {
    "collapsed": false,
    "scrolled": true
   },
   "outputs": [],
   "source": [
    "def dim_reduction_chart(d):    \n",
    "    \n",
    "    import matplotlib.pyplot as plt\n",
    "    n_groups = 3\n",
    "    pos = list(range(n_groups))\n",
    "\n",
    "    dim_red_1 = tokenized_lst\n",
    "\n",
    "    dim_red_2 = stop_words_removed_lst\n",
    "\n",
    "    dim_red_3 = frequency_filtered_lst\n",
    "\n",
    "\n",
    "    fig, ax = plt.subplots()\n",
    "\n",
    "    pos = list(range(n_groups))\n",
    "    bar_width = 0.25\n",
    "\n",
    "    opacity = 0.4\n",
    "    error_config = {'ecolor': '0.3'}\n",
    "\n",
    "    rects1 = plt.bar(pos, \n",
    "                     dim_red_1, bar_width,\n",
    "                     alpha=opacity,\n",
    "                     #color='b',\n",
    "                     label='Tokenized (init)')\n",
    "\n",
    "    rects2 = plt.bar([p + bar_width for p in pos], \n",
    "                     dim_red_2, bar_width,\n",
    "                     alpha=opacity,\n",
    "                     #color='b',\n",
    "                     label='Stop Word Removal')\n",
    "\n",
    "    rects3 = plt.bar([p + bar_width*2 for p in pos], \n",
    "                     dim_red_3, bar_width,\n",
    "                     alpha=opacity,\n",
    "                     #color='b',\n",
    "                     label= 'Frequency Filtering')\n",
    "\n",
    "    #plt.xlabel('Group')\n",
    "    plt.yscale('log')\n",
    "    plt.ylabel('Number of Words')\n",
    "    plt.title('Counts Over Dimensionality Reduction')\n",
    "    plt.xticks([p + + bar_width/2 for p in pos] , ('Avg unique per book', \\\n",
    "                            'Avg total per book', 'Total vocab size'))\n",
    "    plt.legend()\n",
    "\n",
    "    plt.tight_layout()\n",
    "    plt.show()"
   ]
  },
  {
   "cell_type": "code",
   "execution_count": 38,
   "metadata": {
    "collapsed": false
   },
   "outputs": [
    {
     "data": {
      "image/png": "[encoded data removed]",
      "text/plain": [
       "<matplotlib.figure.Figure at 0x11a5ac4d0>"
      ]
     },
     "metadata": {},
     "output_type": "display_data"
    }
   ],
   "source": [
    "dim_reduction_chart(d)"
   ]
  },
  {
   "cell_type": "code",
   "execution_count": null,
   "metadata": {
    "collapsed": true
   },
   "outputs": [],
   "source": [
    "plt.savefig()"
   ]
  }
 ],
 "metadata": {
  "anaconda-cloud": {},
  "kernelspec": {
   "display_name": "Python [conda root]",
   "language": "python",
   "name": "conda-root-py"
  },
  "language_info": {
   "codemirror_mode": {
    "name": "ipython",
    "version": 2
   },
   "file_extension": ".py",
   "mimetype": "text/x-python",
   "name": "python",
   "nbconvert_exporter": "python",
   "pygments_lexer": "ipython2",
   "version": "2.7.12"
  }
 },
 "nbformat": 4,
 "nbformat_minor": 1
}
