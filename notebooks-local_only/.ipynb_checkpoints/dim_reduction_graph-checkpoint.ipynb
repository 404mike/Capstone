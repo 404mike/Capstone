{
 "cells": [
  {
   "cell_type": "code",
   "execution_count": 1,
   "metadata": {
    "collapsed": false
   },
   "outputs": [
    {
     "name": "stderr",
     "output_type": "stream",
     "text": [
      "Using TensorFlow backend.\n"
     ]
    }
   ],
   "source": [
    "import os, codecs\n",
    "import gensim\n",
    "from gensim import corpora\n",
    "from collections import defaultdict\n",
    "import string\n",
    "from string import punctuation\n",
    "from nltk.corpus.reader.plaintext import PlaintextCorpusReader\n",
    "import pandas as pd\n",
    "import numpy as np\n",
    "import json"
   ]
  },
  {
   "cell_type": "code",
   "execution_count": 2,
   "metadata": {
    "collapsed": true
   },
   "outputs": [],
   "source": [
    "#you are here"
   ]
  },
  {
   "cell_type": "code",
   "execution_count": 3,
   "metadata": {
    "collapsed": false
   },
   "outputs": [
    {
     "data": {
      "text/plain": [
       "u'/Users/rachelbrynsvold/dsi/capstone_dir/Capstone/notebooks-local_only'"
      ]
     },
     "execution_count": 3,
     "metadata": {},
     "output_type": "execute_result"
    }
   ],
   "source": [
    "pwd"
   ]
  },
  {
   "cell_type": "markdown",
   "metadata": {},
   "source": [
    "If the 'header' assignment doesn't match this ^, you will probably need to copy + paste this string and assign it."
   ]
  },
  {
   "cell_type": "markdown",
   "metadata": {},
   "source": [
    "#### This should be all the information needed for this notebook's relative path assignment!\n",
    "Confirm the dist_string matches the one you entered for your dimensional reduction and model fitting   \n",
    "Confirm the header for the outputs_dir   \n",
    "Make sure the outputs_dir exists"
   ]
  },
  {
   "cell_type": "code",
   "execution_count": 6,
   "metadata": {
    "collapsed": false
   },
   "outputs": [
    {
     "data": {
      "text/plain": [
       "'/Users/rachelbrynsvold/dsi/capstone_dir/Capstone/outputs-git_ignored/10p_5000_50/'"
      ]
     },
     "execution_count": 6,
     "metadata": {},
     "output_type": "execute_result"
    }
   ],
   "source": [
    "header = '/Users/rachelbrynsvold/dsi/capstone_dir/Capstone/outputs-git_ignored' + '/'\n",
    "\n",
    "dist_string = '10p_5000_50'\n",
    "\n",
    "outputs_dir = header + dist_string + '/'\n",
    "outputs_dir"
   ]
  },
  {
   "cell_type": "code",
   "execution_count": 5,
   "metadata": {
    "collapsed": false
   },
   "outputs": [
    {
     "ename": "SyntaxError",
     "evalue": "invalid syntax (<ipython-input-5-aa1ce781d3ec>, line 1)",
     "output_type": "error",
     "traceback": [
      "\u001b[0;36m  File \u001b[0;32m\"<ipython-input-5-aa1ce781d3ec>\"\u001b[0;36m, line \u001b[0;32m1\u001b[0m\n\u001b[0;31m    Again copy + paste the above next to the cd, to change to the directory of interest and review the contents.\u001b[0m\n\u001b[0m             ^\u001b[0m\n\u001b[0;31mSyntaxError\u001b[0m\u001b[0;31m:\u001b[0m invalid syntax\n"
     ]
    }
   ],
   "source": [
    "Again copy + paste the above next to the cd, to change to the directory of interest and review the contents."
   ]
  },
  {
   "cell_type": "code",
   "execution_count": 8,
   "metadata": {
    "collapsed": false
   },
   "outputs": [
    {
     "name": "stdout",
     "output_type": "stream",
     "text": [
      "/Users/rachelbrynsvold/dsi/capstone_dir/Capstone/outputs-git_ignored/10p_5000_50\n"
     ]
    }
   ],
   "source": [
    "cd /Users/rachelbrynsvold/dsi/capstone_dir/Capstone/outputs-git_ignored/10p_5000_50/"
   ]
  },
  {
   "cell_type": "code",
   "execution_count": 9,
   "metadata": {
    "collapsed": true
   },
   "outputs": [],
   "source": [
    "#check what's in your outputs directory"
   ]
  },
  {
   "cell_type": "code",
   "execution_count": 10,
   "metadata": {
    "collapsed": false
   },
   "outputs": [
    {
     "name": "stdout",
     "output_type": "stream",
     "text": [
      "10p_5000_50.dict                    10p_5000_50.model.state\r\n",
      "10p_5000_50.model                   10p_5000_50.model.state.sstats.npy\r\n",
      "10p_5000_50.model.expElogbeta.npy   10p_5000_50_lst.txt\r\n",
      "10p_5000_50.model.id2word\r\n"
     ]
    }
   ],
   "source": [
    "ls"
   ]
  },
  {
   "cell_type": "code",
   "execution_count": 19,
   "metadata": {
    "collapsed": true
   },
   "outputs": [],
   "source": [
    "j_fp = header + dist_string + '.json'\n",
    "c_fp = header + dist_string + 'dim_r_chart'"
   ]
  },
  {
   "cell_type": "code",
   "execution_count": null,
   "metadata": {
    "collapsed": true
   },
   "outputs": [],
   "source": [
    "d = json.load(fp)"
   ]
  },
  {
   "cell_type": "code",
   "execution_count": 12,
   "metadata": {
    "collapsed": false
   },
   "outputs": [
    {
     "name": "stdout",
     "output_type": "stream",
     "text": [
      "\n"
     ]
    }
   ],
   "source": [
    "d = {\"tokenized\": {\"avg_unique\": 4567, \"total_vocab\": 479010, \"avg_words\": 49641}, \"tok_and_sw\": {\"avg_unique\": 4453, \"total_vocab\": 478857, \"avg_words\": 21127}, \"freq_filtered\": {\"avg_unique\": 2828, \"total_vocab\": 100000, \"avg_words\": 6829}}"
   ]
  },
  {
   "cell_type": "code",
   "execution_count": 13,
   "metadata": {
    "collapsed": false
   },
   "outputs": [
    {
     "name": "stdout",
     "output_type": "stream",
     "text": [
      "Average unique words per book: \n",
      "    Initial (tokenized):  4567\n",
      "    Stop words removed:  4453\n",
      "    Frequency filtered:  2828\n",
      "   \n",
      "Average word count per book: \n",
      "    Initial (tokenized):  49641\n",
      "    Stop words removed:  21127\n",
      "    Frequency filtered:  6829\n",
      "   \n",
      "Vocabulary length: \n",
      "    Initial (tokenized):  479010\n",
      "    Stop words removed:  478857\n",
      "    Frequency filtered:  100000\n"
     ]
    }
   ],
   "source": [
    "print \"Average unique words per book: \"\n",
    "print \"   \", \"Initial (tokenized): \", d['tokenized']['avg_unique']\n",
    "print \"   \", \"Stop words removed: \", d['tok_and_sw']['avg_unique']\n",
    "print \"   \", \"Frequency filtered: \", d['freq_filtered']['avg_unique']\n",
    "print \"   \"\n",
    "\n",
    "print \"Average word count per book: \"\n",
    "print \"   \", \"Initial (tokenized): \", d['tokenized']['avg_words']\n",
    "print \"   \", \"Stop words removed: \", d['tok_and_sw']['avg_words']\n",
    "print \"   \", \"Frequency filtered: \", d['freq_filtered']['avg_words']\n",
    "print \"   \"\n",
    "\n",
    "print \"Vocabulary length: \"\n",
    "print \"   \", \"Initial (tokenized): \", d['tokenized']['total_vocab']\n",
    "print \"   \", \"Stop words removed: \", d['tok_and_sw']['total_vocab']\n",
    "print \"   \", \"Frequency filtered: \", d['freq_filtered']['total_vocab']"
   ]
  },
  {
   "cell_type": "code",
   "execution_count": 43,
   "metadata": {
    "collapsed": false
   },
   "outputs": [
    {
     "data": {
      "text/plain": [
       "([479010, 49641, 4567], [478857, 21127, 4453], [100000, 6829, 2828])"
      ]
     },
     "execution_count": 43,
     "metadata": {},
     "output_type": "execute_result"
    }
   ],
   "source": [
    "sec_keys_lst = ['total_vocab', 'avg_words', 'avg_unique']\n",
    "tokenized_lst = [d['tokenized'][key] for key in sec_keys_lst]\n",
    "stop_words_removed_lst = [d['tok_and_sw'][key] for key in sec_keys_lst]\n",
    "frequency_filtered_lst = _lst = [d['freq_filtered'][key] for key in sec_keys_lst]\n",
    "tokenized_lst, stop_words_removed_lst, frequency_filtered_lst"
   ]
  },
  {
   "cell_type": "code",
   "execution_count": 44,
   "metadata": {
    "collapsed": false
   },
   "outputs": [
    {
     "data": {
      "text/plain": [
       "['total_vocab', 'avg_words', 'avg_unique']"
      ]
     },
     "execution_count": 44,
     "metadata": {},
     "output_type": "execute_result"
    }
   ],
   "source": [
    "sec_keys_lst"
   ]
  },
  {
   "cell_type": "code",
   "execution_count": 45,
   "metadata": {
    "collapsed": false,
    "scrolled": true
   },
   "outputs": [],
   "source": [
    "def dim_reduction_chart(d, tokenized_lst=tokenized_lst, \\\n",
    "                            stop_words_removed_lst=stop_words_removed_lst, \\\n",
    "                            frequency_filtered_lst=frequency_filtered_lst, \\\n",
    "                           c_fp=None):   \n",
    "    \n",
    "    import matplotlib.pyplot as plt\n",
    "    n_groups = 3\n",
    "    pos = list(range(n_groups))\n",
    "\n",
    "    dim_red_1 = tokenized_lst\n",
    "\n",
    "    dim_red_2 = stop_words_removed_lst\n",
    "\n",
    "    dim_red_3 = frequency_filtered_lst\n",
    "\n",
    "\n",
    "    fig, ax = plt.subplots()\n",
    "\n",
    "    pos = list(range(n_groups))\n",
    "    bar_width = 0.25\n",
    "\n",
    "    opacity = 0.4\n",
    "    error_config = {'ecolor': '0.3'}\n",
    "\n",
    "    rects1 = plt.bar(pos, \n",
    "                     dim_red_1, bar_width,\n",
    "                     alpha=opacity,\n",
    "                     #color='b',\n",
    "                     label='Tokenized (init)')\n",
    "\n",
    "    rects2 = plt.bar([p + bar_width for p in pos], \n",
    "                     dim_red_2, bar_width,\n",
    "                     alpha=opacity,\n",
    "                     #color='b',\n",
    "                     label='Stop Word Removal')\n",
    "\n",
    "    rects3 = plt.bar([p + bar_width*2 for p in pos], \n",
    "                     dim_red_3, bar_width,\n",
    "                     alpha=opacity,\n",
    "                     #color='b',\n",
    "                     label= 'Frequency Filtering')\n",
    "\n",
    "    #plt.xlabel('Group')\n",
    "    plt.yscale('log')\n",
    "    plt.ylabel('Number of Words')\n",
    "    plt.title('Counts Over Dimensionality Reduction')\n",
    "    plt.xticks([p + + bar_width/2 for p in pos] , ('Total vocab size', \\\n",
    "                                                   'Avg total per book', \\\n",
    "                                                   'Avg unique per book'))\n",
    "    plt.legend()\n",
    "\n",
    "    plt.tight_layout()\n",
    "    plt.show()\n",
    "    \n",
    "    if c_fp != None:\n",
    "        plt.savefig(c_fp)"
   ]
  },
  {
   "cell_type": "code",
   "execution_count": 46,
   "metadata": {
    "collapsed": false
   },
   "outputs": [
    {
     "data": {
      "image/png": "[encoded data removed]",
      "text/plain": [
       "<matplotlib.figure.Figure at 0x118e41e50>"
      ]
     },
     "metadata": {},
     "output_type": "display_data"
    }
   ],
   "source": [
    "dim_reduction_chart(d)"
   ]
  }
 ],
 "metadata": {
  "anaconda-cloud": {},
  "kernelspec": {
   "display_name": "Python [conda root]",
   "language": "python",
   "name": "conda-root-py"
  },
  "language_info": {
   "codemirror_mode": {
    "name": "ipython",
    "version": 2
   },
   "file_extension": ".py",
   "mimetype": "text/x-python",
   "name": "python",
   "nbconvert_exporter": "python",
   "pygments_lexer": "ipython2",
   "version": "2.7.12"
  }
 },
 "nbformat": 4,
 "nbformat_minor": 1
}
